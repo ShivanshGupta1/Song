{
  "nbformat": 4,
  "nbformat_minor": 0,
  "metadata": {
    "colab": {
      "name": "Song Dictionary.ipynb",
      "provenance": [],
      "collapsed_sections": [],
      "authorship_tag": "ABX9TyO4WbUC8aos+NK8QU+fYcdQ",
      "include_colab_link": true
    },
    "kernelspec": {
      "name": "python3",
      "display_name": "Python 3"
    }
  },
  "cells": [
    {
      "cell_type": "markdown",
      "metadata": {
        "id": "view-in-github",
        "colab_type": "text"
      },
      "source": [
        "<a href=\"https://colab.research.google.com/github/ShivanshGupta1/Song/blob/main/Song_Dictionary.ipynb\" target=\"_parent\"><img src=\"https://colab.research.google.com/assets/colab-badge.svg\" alt=\"Open In Colab\"/></a>"
      ]
    },
    {
      "cell_type": "code",
      "metadata": {
        "id": "g7l42KogsgOW"
      },
      "source": [
        "#Song Dictionary\n",
        "song = \"she loves you yeah yeah yeah she loves you yeah yeah yeah she loves you yeah yeah yeah you think you’ve lost your love well i saw her yesterday-yi-yay it’s you she’s thinking of and she told me what to say-yi-yay she says she loves you and you know that can’t be bad yes she loves you and you know you should be glad\" #This is the song\n",
        "song = song.split() #This is converting the string to a list\n",
        "songDictionary = {} #This is the empty dictionary\n",
        "def work(songDictionary,song): #This is the function for the program\n",
        "  for i in song: #This for loop checks for every element (eg. - \"yeah\"), in the list...\n",
        "    if i in songDictionary:#If that element is already there in the dictionary...\n",
        "      songDictionary[i]=songDictionary[i]+1 #Then add 1 more to it\n",
        "    else:#Else initialize the value to 1\n",
        "      songDictionary[i]=1\n",
        "  return songDictionary#In the end, when the for loop is over, it will return us the dictionary\n",
        "print(work(songDictionary,song))#This will print the dictionary"
      ],
      "execution_count": null,
      "outputs": []
    }
  ]
}